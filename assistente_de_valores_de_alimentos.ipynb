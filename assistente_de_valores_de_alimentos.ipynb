{
  "nbformat": 4,
  "nbformat_minor": 0,
  "metadata": {
    "colab": {
      "provenance": [],
      "include_colab_link": true
    },
    "kernelspec": {
      "name": "python3",
      "display_name": "Python 3"
    },
    "language_info": {
      "name": "python"
    }
  },
  "cells": [
    {
      "cell_type": "markdown",
      "metadata": {
        "id": "view-in-github",
        "colab_type": "text"
      },
      "source": [
        "<a href=\"https://colab.research.google.com/github/christopherwesker/projeto-alura/blob/main/assistente_de_valores_de_alimentos.ipynb\" target=\"_parent\"><img src=\"https://colab.research.google.com/assets/colab-badge.svg\" alt=\"Open In Colab\"/></a>"
      ]
    },
    {
      "cell_type": "code",
      "source": [],
      "metadata": {
        "id": "8bw6RB3ubYa1"
      },
      "execution_count": null,
      "outputs": []
    },
    {
      "cell_type": "markdown",
      "source": [],
      "metadata": {
        "id": "wadtJoeFT6KR"
      }
    },
    {
      "cell_type": "code",
      "source": [
        "%pip -q install google-genai"
      ],
      "metadata": {
        "id": "UCCbECexLk_h"
      },
      "execution_count": null,
      "outputs": []
    },
    {
      "cell_type": "code",
      "source": [
        "# Configura a API Key do Google Gemini\n",
        "\n",
        "import os\n",
        "from google.colab import userdata\n",
        "\n",
        "os.environ[\"GOOGLE_API_KEY\"] = userdata.get('GOOGLE_API_KEY')"
      ],
      "metadata": {
        "id": "NfCqHo1tLk8P"
      },
      "execution_count": null,
      "outputs": []
    },
    {
      "cell_type": "code",
      "source": [
        "# Configura o cliente da SDK do Gemini\n",
        "\n",
        "from google import genai\n",
        "\n",
        "client = genai.Client()\n",
        "\n",
        "MODEL_ID = \"gemini-2.0-flash\""
      ],
      "metadata": {
        "id": "bV4w0H5TLk5g"
      },
      "execution_count": null,
      "outputs": []
    },
    {
      "cell_type": "code",
      "source": [
        "# Pergunta ao Gemini uma informação mais recente que seu conhecimento\n",
        "\n",
        "from IPython.display import HTML, Markdown\n",
        "\n",
        "# Perguntar pro modelo quando é a próxima imersão de IA ###############################################\n",
        "resposta = client.models.generate_content(\n",
        "    model=MODEL_ID,\n",
        "    contents='Quando é a próxima Imersão IA com Google Gemini da Alura?',\n",
        ")\n",
        "\n",
        "# Exibe a resposta na tela\n",
        "display(Markdown(f\"Resposta:\\n {response.text}\"))"
      ],
      "metadata": {
        "colab": {
          "base_uri": "https://localhost:8080/",
          "height": 145
        },
        "id": "Y9cBAz02xZt9",
        "outputId": "6011c878-81ce-400f-befc-9ab8498d36ba"
      },
      "execution_count": null,
      "outputs": [
        {
          "output_type": "display_data",
          "data": {
            "text/plain": [
              "<IPython.core.display.Markdown object>"
            ],
            "text/markdown": "Resposta:\n A próxima edição da Imersão IA com Google Gemini da Alura aconteceu de 12 a 16 de maio de 2025. As inscrições para esta edição foram encerradas em 11 de maio de 2025.\n\nA Imersão IA é um curso online e gratuito que ensina a aplicar inteligência artificial generativa com o Google Gemini. O curso é dividido em cinco aulas, onde você aprende a criar prompts, automatizar tarefas e desenvolver um sistema de agentes autônomos. Ao final do curso, você recebe um certificado Alura + Google.\n\nOs melhores projetos da Imersão IA concorrem a prêmios como bolsas de estudo, acesso ao plano ULTRA da Alura, participação no podcast Hipsters Ponto Tech e ingressos para o IA Conference Brasil.\n"
          },
          "metadata": {}
        }
      ]
    },
    {
      "cell_type": "code",
      "source": [
        "# Pergunta ao Gemini uma informação utilizando a busca do Google como contexto\n",
        "\n",
        "response = client.models.generate_content(\n",
        "    model=MODEL_ID,\n",
        "    contents='Quando é a próxima Imersão IA com Google Gemini da Alura?',\n",
        "    config={\"tools\": [{\"google_search\": {}}]}\n",
        ")\n",
        "\n",
        "# Exibe a resposta na tela\n",
        "display(Markdown(f\"Resposta:\\n {response.text}\"))"
      ],
      "metadata": {
        "colab": {
          "base_uri": "https://localhost:8080/",
          "height": 145
        },
        "id": "lc2JPA92xbnp",
        "outputId": "bc460d5c-c737-4841-a6ab-5689333d46af"
      },
      "execution_count": null,
      "outputs": [
        {
          "output_type": "display_data",
          "data": {
            "text/plain": [
              "<IPython.core.display.Markdown object>"
            ],
            "text/markdown": "Resposta:\n A próxima edição da Imersão IA com Google Gemini da Alura aconteceu de 12 a 16 de maio de 2025. As inscrições para esta edição foram encerradas em 11 de maio de 2025.\n\nA Imersão IA é um curso online e gratuito que ensina a aplicar inteligência artificial generativa com o Google Gemini. O curso é dividido em cinco aulas, onde você aprende a criar prompts, automatizar tarefas e desenvolver um sistema de agentes autônomos. Ao final do curso, você recebe um certificado Alura + Google.\n\nOs melhores projetos da Imersão IA concorrem a prêmios como bolsas de estudo, acesso ao plano ULTRA da Alura, participação no podcast Hipsters Ponto Tech e ingressos para o IA Conference Brasil.\n"
          },
          "metadata": {}
        }
      ]
    },
    {
      "cell_type": "code",
      "source": [
        "# Exibe a busca\n",
        "print(f\"Busca realizada: {response.candidates[0].grounding_metadata.web_search_queries}\")\n",
        "# Exibe as URLs nas quais ele se baseou\n",
        "print(f\"Páginas utilizadas na resposta: {', '.join([site.web.title for site in response.candidates[0].grounding_metadata.grounding_chunks])}\")\n",
        "print()\n",
        "display(HTML(response.candidates[0].grounding_metadata.search_entry_point.rendered_content))"
      ],
      "metadata": {
        "colab": {
          "base_uri": "https://localhost:8080/",
          "height": 121
        },
        "id": "6Cg0KNJGMgC5",
        "outputId": "82afb356-abcd-4f4e-ecaf-8a12b9d45594"
      },
      "execution_count": null,
      "outputs": [
        {
          "output_type": "stream",
          "name": "stdout",
          "text": [
            "Busca realizada: ['Alura Imersão IA com Google Gemini próxima edição', 'Alura Imersão IA Google Gemini']\n",
            "Páginas utilizadas na resposta: thallesbenicio.com.br, alemdoclicktech.com.br, alura.com.br, youtube.com, tecmundo.com.br\n",
            "\n"
          ]
        },
        {
          "output_type": "display_data",
          "data": {
            "text/plain": [
              "<IPython.core.display.HTML object>"
            ],
            "text/html": [
              "<style>\n",
              ".container {\n",
              "  align-items: center;\n",
              "  border-radius: 8px;\n",
              "  display: flex;\n",
              "  font-family: Google Sans, Roboto, sans-serif;\n",
              "  font-size: 14px;\n",
              "  line-height: 20px;\n",
              "  padding: 8px 12px;\n",
              "}\n",
              ".chip {\n",
              "  display: inline-block;\n",
              "  border: solid 1px;\n",
              "  border-radius: 16px;\n",
              "  min-width: 14px;\n",
              "  padding: 5px 16px;\n",
              "  text-align: center;\n",
              "  user-select: none;\n",
              "  margin: 0 8px;\n",
              "  -webkit-tap-highlight-color: transparent;\n",
              "}\n",
              ".carousel {\n",
              "  overflow: auto;\n",
              "  scrollbar-width: none;\n",
              "  white-space: nowrap;\n",
              "  margin-right: -12px;\n",
              "}\n",
              ".headline {\n",
              "  display: flex;\n",
              "  margin-right: 4px;\n",
              "}\n",
              ".gradient-container {\n",
              "  position: relative;\n",
              "}\n",
              ".gradient {\n",
              "  position: absolute;\n",
              "  transform: translate(3px, -9px);\n",
              "  height: 36px;\n",
              "  width: 9px;\n",
              "}\n",
              "@media (prefers-color-scheme: light) {\n",
              "  .container {\n",
              "    background-color: #fafafa;\n",
              "    box-shadow: 0 0 0 1px #0000000f;\n",
              "  }\n",
              "  .headline-label {\n",
              "    color: #1f1f1f;\n",
              "  }\n",
              "  .chip {\n",
              "    background-color: #ffffff;\n",
              "    border-color: #d2d2d2;\n",
              "    color: #5e5e5e;\n",
              "    text-decoration: none;\n",
              "  }\n",
              "  .chip:hover {\n",
              "    background-color: #f2f2f2;\n",
              "  }\n",
              "  .chip:focus {\n",
              "    background-color: #f2f2f2;\n",
              "  }\n",
              "  .chip:active {\n",
              "    background-color: #d8d8d8;\n",
              "    border-color: #b6b6b6;\n",
              "  }\n",
              "  .logo-dark {\n",
              "    display: none;\n",
              "  }\n",
              "  .gradient {\n",
              "    background: linear-gradient(90deg, #fafafa 15%, #fafafa00 100%);\n",
              "  }\n",
              "}\n",
              "@media (prefers-color-scheme: dark) {\n",
              "  .container {\n",
              "    background-color: #1f1f1f;\n",
              "    box-shadow: 0 0 0 1px #ffffff26;\n",
              "  }\n",
              "  .headline-label {\n",
              "    color: #fff;\n",
              "  }\n",
              "  .chip {\n",
              "    background-color: #2c2c2c;\n",
              "    border-color: #3c4043;\n",
              "    color: #fff;\n",
              "    text-decoration: none;\n",
              "  }\n",
              "  .chip:hover {\n",
              "    background-color: #353536;\n",
              "  }\n",
              "  .chip:focus {\n",
              "    background-color: #353536;\n",
              "  }\n",
              "  .chip:active {\n",
              "    background-color: #464849;\n",
              "    border-color: #53575b;\n",
              "  }\n",
              "  .logo-light {\n",
              "    display: none;\n",
              "  }\n",
              "  .gradient {\n",
              "    background: linear-gradient(90deg, #1f1f1f 15%, #1f1f1f00 100%);\n",
              "  }\n",
              "}\n",
              "</style>\n",
              "<div class=\"container\">\n",
              "  <div class=\"headline\">\n",
              "    <svg class=\"logo-light\" width=\"18\" height=\"18\" viewBox=\"9 9 35 35\" fill=\"none\" xmlns=\"http://www.w3.org/2000/svg\">\n",
              "      <path fill-rule=\"evenodd\" clip-rule=\"evenodd\" d=\"M42.8622 27.0064C42.8622 25.7839 42.7525 24.6084 42.5487 23.4799H26.3109V30.1568H35.5897C35.1821 32.3041 33.9596 34.1222 32.1258 35.3448V39.6864H37.7213C40.9814 36.677 42.8622 32.2571 42.8622 27.0064V27.0064Z\" fill=\"#4285F4\"/>\n",
              "      <path fill-rule=\"evenodd\" clip-rule=\"evenodd\" d=\"M26.3109 43.8555C30.9659 43.8555 34.8687 42.3195 37.7213 39.6863L32.1258 35.3447C30.5898 36.3792 28.6306 37.0061 26.3109 37.0061C21.8282 37.0061 18.0195 33.9811 16.6559 29.906H10.9194V34.3573C13.7563 39.9841 19.5712 43.8555 26.3109 43.8555V43.8555Z\" fill=\"#34A853\"/>\n",
              "      <path fill-rule=\"evenodd\" clip-rule=\"evenodd\" d=\"M16.6559 29.8904C16.3111 28.8559 16.1074 27.7588 16.1074 26.6146C16.1074 25.4704 16.3111 24.3733 16.6559 23.3388V18.8875H10.9194C9.74388 21.2072 9.06992 23.8247 9.06992 26.6146C9.06992 29.4045 9.74388 32.022 10.9194 34.3417L15.3864 30.8621L16.6559 29.8904V29.8904Z\" fill=\"#FBBC05\"/>\n",
              "      <path fill-rule=\"evenodd\" clip-rule=\"evenodd\" d=\"M26.3109 16.2386C28.85 16.2386 31.107 17.1164 32.9095 18.8091L37.8466 13.8719C34.853 11.082 30.9659 9.3736 26.3109 9.3736C19.5712 9.3736 13.7563 13.245 10.9194 18.8875L16.6559 23.3388C18.0195 19.2636 21.8282 16.2386 26.3109 16.2386V16.2386Z\" fill=\"#EA4335\"/>\n",
              "    </svg>\n",
              "    <svg class=\"logo-dark\" width=\"18\" height=\"18\" viewBox=\"0 0 48 48\" xmlns=\"http://www.w3.org/2000/svg\">\n",
              "      <circle cx=\"24\" cy=\"23\" fill=\"#FFF\" r=\"22\"/>\n",
              "      <path d=\"M33.76 34.26c2.75-2.56 4.49-6.37 4.49-11.26 0-.89-.08-1.84-.29-3H24.01v5.99h8.03c-.4 2.02-1.5 3.56-3.07 4.56v.75l3.91 2.97h.88z\" fill=\"#4285F4\"/>\n",
              "      <path d=\"M15.58 25.77A8.845 8.845 0 0 0 24 31.86c1.92 0 3.62-.46 4.97-1.31l4.79 3.71C31.14 36.7 27.65 38 24 38c-5.93 0-11.01-3.4-13.45-8.36l.17-1.01 4.06-2.85h.8z\" fill=\"#34A853\"/>\n",
              "      <path d=\"M15.59 20.21a8.864 8.864 0 0 0 0 5.58l-5.03 3.86c-.98-2-1.53-4.25-1.53-6.64 0-2.39.55-4.64 1.53-6.64l1-.22 3.81 2.98.22 1.08z\" fill=\"#FBBC05\"/>\n",
              "      <path d=\"M24 14.14c2.11 0 4.02.75 5.52 1.98l4.36-4.36C31.22 9.43 27.81 8 24 8c-5.93 0-11.01 3.4-13.45 8.36l5.03 3.85A8.86 8.86 0 0 1 24 14.14z\" fill=\"#EA4335\"/>\n",
              "    </svg>\n",
              "    <div class=\"gradient-container\"><div class=\"gradient\"></div></div>\n",
              "  </div>\n",
              "  <div class=\"carousel\">\n",
              "    <a class=\"chip\" href=\"https://vertexaisearch.cloud.google.com/grounding-api-redirect/AbF9wXELCRXFqnk_csCZY0lU3w347bpsw3Sm3uYTfTsKpVCkpx-A-9Z3Q7sqvZYuIM_SFfweTO3xaNwyDb7PHs0v6GWWYVCw9KGWarizyehVhlnHADB800Gdj3TE2BPkDtrnHqYq8zA1cqB0FhV6gO45SEKqZumbouCCpOFPrWcCasy-AMoOweZJ5tH7QeUC7BQjERpuAePrtSuTFplVvYme_92MW_un2JmIAImo-0uEDm0tGP-630aK5aryP4H--z-rok3NihRWCOAIIIQ=\">Alura Imersão IA com Google Gemini próxima edição</a>\n",
              "    <a class=\"chip\" href=\"https://vertexaisearch.cloud.google.com/grounding-api-redirect/AbF9wXGCWwHebh1AVuNPKNzBOk1tyzZtkJuoPdyQis4Fiw0bt87-hj2hqhMOTpj_9eC8MePAb9iGiwJK-G3m_lJPgv5DG2u1XDF9r3XxiNxxf6sgVMxSFaRmmU0An0_K0AOWmomCWUEdOJlg2ZB7DMgbovvGub3XcvyIU0FiBg5mFU-thHGP24jmTtjjSvIodoFpx41I2_whBGYBFqBi-8nfCR53wHStlzUX\">Alura Imersão IA Google Gemini</a>\n",
              "  </div>\n",
              "</div>\n"
            ]
          },
          "metadata": {}
        }
      ]
    },
    {
      "cell_type": "code",
      "source": [
        "# Instalar Framework de agentes do Google ################################################\n",
        "!pip install -q google-adk"
      ],
      "metadata": {
        "colab": {
          "base_uri": "https://localhost:8080/"
        },
        "id": "a1eRPalxEnj7",
        "outputId": "b2559acd-25f3-4ca7-f6cc-6c48def8970a"
      },
      "execution_count": null,
      "outputs": [
        {
          "output_type": "stream",
          "name": "stdout",
          "text": [
            "\u001b[?25l   \u001b[90m━━━━━━━━━━━━━━━━━━━━━━━━━━━━━━━━━━━━━━━━\u001b[0m \u001b[32m0.0/1.2 MB\u001b[0m \u001b[31m?\u001b[0m eta \u001b[36m-:--:--\u001b[0m\r\u001b[2K   \u001b[91m━━━━━━━━━━━━━━━━━━━━━━━━━━━━━━━━━━━━━━━\u001b[0m\u001b[91m╸\u001b[0m \u001b[32m1.2/1.2 MB\u001b[0m \u001b[31m47.4 MB/s\u001b[0m eta \u001b[36m0:00:01\u001b[0m\r\u001b[2K   \u001b[90m━━━━━━━━━━━━━━━━━━━━━━━━━━━━━━━━━━━━━━━━\u001b[0m \u001b[32m1.2/1.2 MB\u001b[0m \u001b[31m28.8 MB/s\u001b[0m eta \u001b[36m0:00:00\u001b[0m\n",
            "\u001b[?25h\u001b[?25l   \u001b[90m━━━━━━━━━━━━━━━━━━━━━━━━━━━━━━━━━━━━━━━━\u001b[0m \u001b[32m0.0/232.1 kB\u001b[0m \u001b[31m?\u001b[0m eta \u001b[36m-:--:--\u001b[0m\r\u001b[2K   \u001b[90m━━━━━━━━━━━━━━━━━━━━━━━━━━━━━━━━━━━━━━━━\u001b[0m \u001b[32m232.1/232.1 kB\u001b[0m \u001b[31m16.3 MB/s\u001b[0m eta \u001b[36m0:00:00\u001b[0m\n",
            "\u001b[?25h\u001b[?25l   \u001b[90m━━━━━━━━━━━━━━━━━━━━━━━━━━━━━━━━━━━━━━━━\u001b[0m \u001b[32m0.0/95.2 kB\u001b[0m \u001b[31m?\u001b[0m eta \u001b[36m-:--:--\u001b[0m\r\u001b[2K   \u001b[90m━━━━━━━━━━━━━━━━━━━━━━━━━━━━━━━━━━━━━━━━\u001b[0m \u001b[32m95.2/95.2 kB\u001b[0m \u001b[31m4.7 MB/s\u001b[0m eta \u001b[36m0:00:00\u001b[0m\n",
            "\u001b[2K   \u001b[90m━━━━━━━━━━━━━━━━━━━━━━━━━━━━━━━━━━━━━━━━\u001b[0m \u001b[32m217.1/217.1 kB\u001b[0m \u001b[31m11.2 MB/s\u001b[0m eta \u001b[36m0:00:00\u001b[0m\n",
            "\u001b[2K   \u001b[90m━━━━━━━━━━━━━━━━━━━━━━━━━━━━━━━━━━━━━━━━\u001b[0m \u001b[32m334.1/334.1 kB\u001b[0m \u001b[31m20.1 MB/s\u001b[0m eta \u001b[36m0:00:00\u001b[0m\n",
            "\u001b[2K   \u001b[90m━━━━━━━━━━━━━━━━━━━━━━━━━━━━━━━━━━━━━━━━\u001b[0m \u001b[32m125.1/125.1 kB\u001b[0m \u001b[31m8.1 MB/s\u001b[0m eta \u001b[36m0:00:00\u001b[0m\n",
            "\u001b[2K   \u001b[90m━━━━━━━━━━━━━━━━━━━━━━━━━━━━━━━━━━━━━━━━\u001b[0m \u001b[32m65.8/65.8 kB\u001b[0m \u001b[31m4.0 MB/s\u001b[0m eta \u001b[36m0:00:00\u001b[0m\n",
            "\u001b[2K   \u001b[90m━━━━━━━━━━━━━━━━━━━━━━━━━━━━━━━━━━━━━━━━\u001b[0m \u001b[32m119.0/119.0 kB\u001b[0m \u001b[31m8.6 MB/s\u001b[0m eta \u001b[36m0:00:00\u001b[0m\n",
            "\u001b[2K   \u001b[90m━━━━━━━━━━━━━━━━━━━━━━━━━━━━━━━━━━━━━━━━\u001b[0m \u001b[32m194.9/194.9 kB\u001b[0m \u001b[31m12.5 MB/s\u001b[0m eta \u001b[36m0:00:00\u001b[0m\n",
            "\u001b[2K   \u001b[90m━━━━━━━━━━━━━━━━━━━━━━━━━━━━━━━━━━━━━━━━\u001b[0m \u001b[32m62.5/62.5 kB\u001b[0m \u001b[31m4.1 MB/s\u001b[0m eta \u001b[36m0:00:00\u001b[0m\n",
            "\u001b[2K   \u001b[90m━━━━━━━━━━━━━━━━━━━━━━━━━━━━━━━━━━━━━━━━\u001b[0m \u001b[32m103.3/103.3 kB\u001b[0m \u001b[31m6.8 MB/s\u001b[0m eta \u001b[36m0:00:00\u001b[0m\n",
            "\u001b[2K   \u001b[90m━━━━━━━━━━━━━━━━━━━━━━━━━━━━━━━━━━━━━━━━\u001b[0m \u001b[32m44.4/44.4 kB\u001b[0m \u001b[31m2.5 MB/s\u001b[0m eta \u001b[36m0:00:00\u001b[0m\n",
            "\u001b[2K   \u001b[90m━━━━━━━━━━━━━━━━━━━━━━━━━━━━━━━━━━━━━━━━\u001b[0m \u001b[32m72.0/72.0 kB\u001b[0m \u001b[31m4.8 MB/s\u001b[0m eta \u001b[36m0:00:00\u001b[0m\n",
            "\u001b[?25h"
          ]
        }
      ]
    },
    {
      "cell_type": "code",
      "execution_count": null,
      "metadata": {
        "id": "aePV2bdfDeoW"
      },
      "outputs": [],
      "source": [
        "from google.adk.agents import Agent\n",
        "from google.adk.runners import Runner\n",
        "from google.adk.sessions import InMemorySessionService\n",
        "from google.adk.tools import google_search\n",
        "from google.genai import types  # Para criar conteúdos (Content e Part)\n",
        "from datetime import date\n",
        "import textwrap # Para formatar melhor a saída de texto\n",
        "from IPython.display import display, Markdown # Para exibir texto formatado no Colab\n",
        "import requests # Para fazer requisições HTTP\n",
        "import warnings\n",
        "\n",
        "warnings.filterwarnings(\"ignore\")"
      ]
    },
    {
      "cell_type": "code",
      "source": [
        "# Função auxiliar que envia uma mensagem para um agente via Runner e retorna a resposta final\n",
        "def call_agent(agent: Agent, message_text: str) -> str:\n",
        "    # Cria um serviço de sessão em memória\n",
        "    session_service = InMemorySessionService()\n",
        "    # Cria uma nova sessão (você pode personalizar os IDs conforme necessário)\n",
        "    session = session_service.create_session(app_name=agent.name, user_id=\"user1\", session_id=\"session1\")\n",
        "    # Cria um Runner para o agente\n",
        "    runner = Runner(agent=agent, app_name=agent.name, session_service=session_service)\n",
        "    # Cria o conteúdo da mensagem de entrada\n",
        "    content = types.Content(role=\"user\", parts=[types.Part(text=message_text)])\n",
        "\n",
        "    final_response = \"\"\n",
        "    # Itera assincronamente pelos eventos retornados durante a execução do agente\n",
        "    for event in runner.run(user_id=\"user1\", session_id=\"session1\", new_message=content):\n",
        "        if event.is_final_response():\n",
        "          for part in event.content.parts:\n",
        "            if part.text is not None:\n",
        "              final_response += part.text\n",
        "              final_response += \"\\n\"\n",
        "    return final_response"
      ],
      "metadata": {
        "id": "_xP4lWhsS5ko"
      },
      "execution_count": null,
      "outputs": []
    },
    {
      "cell_type": "code",
      "source": [
        "# Função auxiliar para exibir texto formatado em Markdown no Colab\n",
        "def to_markdown(text):\n",
        "  text = text.replace('•', '  *')\n",
        "  return Markdown(textwrap.indent(text, '> ', predicate=lambda _: True))"
      ],
      "metadata": {
        "id": "8dosiodaxfFR"
      },
      "execution_count": null,
      "outputs": []
    },
    {
      "cell_type": "code",
      "source": [
        "##########################################\n",
        "# --- Agente 1: Buscador de Notícias --- #\n",
        "##########################################\n",
        "def agente_buscador(topico, data_de_hoje):\n",
        "\n",
        "    buscador = Agent(\n",
        "        name=\"agente_buscador\",\n",
        "        model=\"gemini-2.0-flash\",\n",
        "        instruction=\"\"\"\n",
        "        Você é um assistente de pesquisa. A sua tarefa é usar a ferramenta de busca do google (google_search)\n",
        "        para pesquisar os valores de <arroz tipo 1 , feijão preto tipo 1 , café , oléo de soja , caixa de leite , carne tipo acém , filé de peito de frango , 1 quilo de carré suino congelado , batata inglesa , 1 quilo de cenoura , cebola , alho , quilo de sal , quilo de açucar> nos supermercados na cidade descrita no tópico e apresentar os valores de cada item especifico separadamente em negrito com os respectivos nomes dos supermercados.\n",
        "        \"\"\",\n",
        "        description=\"Agente que busca valores de alimentos pré definidos no Google\",\n",
        "        tools=[google_search]\n",
        "    )\n",
        "\n",
        "    entrada_do_agente_buscador = f\"Tópico: {topico}\\nData de hoje: {data_de_hoje}\"\n",
        "\n",
        "    lancamentos = call_agent(buscador, entrada_do_agente_buscador)\n",
        "    return lancamentos"
      ],
      "metadata": {
        "id": "o8bqIfi_DyH8"
      },
      "execution_count": null,
      "outputs": []
    },
    {
      "cell_type": "code",
      "source": [
        "################################################\n",
        "# --- Agente 2: Planejador de posts --- #\n",
        "################################################\n",
        "def agente_planejador(topico, lancamentos_buscados):\n",
        "    planejador = Agent(\n",
        "        name=\"agente_planejador\",\n",
        "        model=\"gemini-2.0-flash\",\n",
        "        # Inserir as instruções do Agente Planejador #################################################\n",
        "        instruction=\"\"\"\n",
        "        Você é um planejador que ira verificar os valores dos produtos e ira montar uma lista com os menores valores com o nome do supermercado respectivo\n",
        "        \"\"\",\n",
        "        description=\"Agente que filtra os menores preços\",\n",
        "        tools=[google_search]\n",
        "    )\n",
        "\n",
        "    entrada_do_agente_planejador = f\"Tópico:{topico}\\nLançamentos buscados: {lancamentos_buscados}\"\n",
        "    # Executa o agente\n",
        "    plano_do_post = call_agent(planejador, entrada_do_agente_planejador)\n",
        "    return plano_do_post"
      ],
      "metadata": {
        "id": "y3VO1uo5_ghO"
      },
      "execution_count": null,
      "outputs": []
    },
    {
      "cell_type": "code",
      "source": [
        "######################################\n",
        "# --- Agente 3: Redator do Post --- #\n",
        "######################################\n",
        "def agente_redator(topico, plano_de_post):\n",
        "    redator = Agent(\n",
        "        name=\"agente_redator\",\n",
        "        model=\"gemini-2.0-flash\",\n",
        "        instruction=\"\"\"\n",
        "            o seu objetivo é definir qual supermercado é mais barato de acordo com as informaçõe fornecidas no plano de post. utilizar uma lista apresentavel escrita de forma formal para pessoas de idade entre 25-40 anos.\n",
        "            \"\"\",\n",
        "        description=\"Agente redator que cria de forma formal um post que pode ser enviado em redes sociais.\"\n",
        "    )\n",
        "    entrada_do_agente_redator = f\"Tópico: {topico}\\nPlano de post: {plano_de_post}\"\n",
        "    # Executa o agente\n",
        "    rascunho = call_agent(redator, entrada_do_agente_redator)\n",
        "    return rascunho"
      ],
      "metadata": {
        "id": "uOqlg2TRLVh1"
      },
      "execution_count": null,
      "outputs": []
    },
    {
      "cell_type": "code",
      "source": [
        "##########################################\n",
        "# --- Agente 4: Revisor de Qualidade --- #\n",
        "##########################################\n",
        "def agente_revisor(topico, rascunho_gerado):\n",
        "    revisor = Agent(\n",
        "        name=\"agente_revisor\",\n",
        "        model=\"gemini-2.0-flash\",\n",
        "        instruction=\"\"\"\n",
        "            você é um agente revisor. De acordo com as informacões descritas no rascunho diga qual o supermercado mais em barato.\n",
        "            \"\"\",\n",
        "        description=\"Agente que define de forma simples quais os supermercados mais baratos.\"\n",
        "    )\n",
        "    entrada_do_agente_revisor = f\"Tópico: {topico}\\nRascunho: {rascunho_gerado}\"\n",
        "    # Executa o agente\n",
        "    texto_revisado = call_agent(revisor, entrada_do_agente_revisor)\n",
        "    return texto_revisado"
      ],
      "metadata": {
        "id": "_aTb1SdkLeT6"
      },
      "execution_count": null,
      "outputs": []
    },
    {
      "cell_type": "code",
      "source": [
        "data_de_hoje = date.today().strftime(\"%d/%m/%Y\")\n",
        "\n",
        "print(\"Iniciando uma busca de valores de alimentos de supermercados com ajuda de 4 agentes de IA\")\n",
        "\n",
        "# --- Obter o Tópico do Usuário ---\n",
        "topico = input(\"❓ Por favor, digite o nome da cidade e/ou localidade sobre o qual você quer pesquisar os valores dos alimentos: \")\n",
        "\n",
        "# Inserir lógica do sistema de agentes ################################################\n",
        "if not topico:\n",
        "    print(\"Você esqueceu de digitar o nome da cidade e/ou localidade!\")\n",
        "else:\n",
        "    print(f\"Maravilha! Vamos então ver os preços em {topico}\")\n",
        "\n",
        "    lancamentos_buscados = agente_buscador(topico, data_de_hoje)\n",
        "    print(\"\\n--- 📝 Resultado do Agente 1 (Buscador) ---\\n\")\n",
        "    display(to_markdown(lancamentos_buscados))\n",
        "    print(\"--------------------------------------------------------------\")\n",
        "\n",
        "    plano_de_post = agente_planejador(topico, lancamentos_buscados)\n",
        "    print(\"\\n--- 📝 Resultado do Agente 2 (Planejador) ---\\n\")\n",
        "    display(to_markdown(plano_de_post))\n",
        "    print(\"--------------------------------------------------------------\")\n",
        "\n",
        "    rascunho_de_post = agente_redator(topico, plano_de_post)\n",
        "    print(\"\\n--- 📝 Resultado do Agente 3 (Redator) ---\\n\")\n",
        "    display(to_markdown(rascunho_de_post))\n",
        "    print(\"--------------------------------------------------------------\")\n",
        "\n",
        "    post_final = agente_revisor(topico, rascunho_de_post)\n",
        "    print(\"\\n--- 📝 Resultado do Agente 4 (Revisor) ---\\n\")\n",
        "    display(to_markdown(post_final))\n",
        "    print(\"--------------------------------------------------------------\")"
      ],
      "metadata": {
        "colab": {
          "base_uri": "https://localhost:8080/",
          "height": 1000
        },
        "id": "6xzI6LKzxxnN",
        "outputId": "1b5de0d9-8e68-4271-8270-a0a0e0ac83a2"
      },
      "execution_count": null,
      "outputs": [
        {
          "output_type": "stream",
          "name": "stdout",
          "text": [
            "Iniciando uma busca de valores de alimentos de supermercados com ajuda de 4 agentes de IA\n",
            "❓ Por favor, digite o nome da cidade e/ou localidade sobre o qual você quer pesquisar os valores dos alimentos: petrópolis\n",
            "Maravilha! Vamos então ver os preços em petrópolis\n",
            "\n",
            "--- 📝 Resultado do Agente 1 (Buscador) ---\n",
            "\n"
          ]
        },
        {
          "output_type": "display_data",
          "data": {
            "text/plain": [
              "<IPython.core.display.Markdown object>"
            ],
            "text/markdown": "> Ok, vou buscar os preços dos seguintes produtos em supermercados de Petrópolis: arroz tipo 1, feijão preto tipo 1, café, óleo de soja, caixa de leite, carne tipo acém, filé de peito de frango, 1 quilo de carré suíno congelado, batata inglesa, 1 quilo de cenoura, cebola, alho, quilo de sal, quilo de açúcar.\n> \n> \n> Com base nas informações encontradas, aqui estão os preços de alguns produtos nos supermercados de Petrópolis:\n> \n> *   **Arroz tipo 1:**\n>     *   Super Rede: Arroz Branco Blue Soft Tipo 1 (5kg) por R$ 18,99 (válido até 14/05/2025). Arroz Branco Bom no Prato Tipo-1 5 Kg por R$ 18,99 (válido até 14/05/2025).\n>     *   Supermarket: Arroz Branco Supermarket Tipo 1 (5kg) por R$ 19,98. Arroz Branco Tio Bruno (5kg) por R$ 17,95.\n>     *   Carrefour: Arroz Branco Longo-fino Tipo 1 Camil Todo Dia (1Kg) por R$ 5,69. Arroz Branco Carrefour Classic Olimpíadas (1Kg) por R$ 4,79.\n> \n> *   **Feijão preto tipo 1:**\n>     *   Super Rede: Feijão preto azulão tipo 1 (1Kg) por R$ 4,49 (válido até 14/05/2025).\n>     *   Supermarket: Feijão Preto Supermarket Tipo 1 (1 kg) por R$ 3,99 (exceto sul fluminense).\n>     *   Angeloni Supermercado :Feijão Preto URBANO Tipo 1 1kg por R$ 6,99. Feijão Preto CALDÃO Tipo 1 1Kg por R$ 6,99.\n>     *   Carrefour: Feijão Preto Tipo 1 Kicaldo (1Kg) por R$ 6,49. Feijão Preto Carrefour 1 Kg por R$ 6,19.\n> \n> *   **Café:**\n>     *   Supermarket: Café Melitta (500g) por R$ 34,90.\n>     *   D'avó Supermercados: Café Torrado e Moído Tradicional Melitta Caixa (500g) por R$ 34,98.\n> \n> *   **Óleo de soja:**\n>     *   Supermarket: Óleo de Soja Soya, Primor ou Vitaliv (900ml) por R$ 6,75.\n>     *   D'avó Supermercados: Óleo de girassol tipo 1 soya garrafa 900ml por R$ 13,99. Óleo de canola tipo 1 soya especiais garrafa 900ml por R$ 15,99.\n>     *   Super Muffato Delivery: Óleo de Soja Cocamar (900ml) por R$ 6,90. Óleo de Soja Coamo (900ml) por R$ 7,10.\n>     *   Stok Online: Óleo De Soja Vitaliv Pet 900ml por R$ 7,79.\n>     *   Perim Supermercados: Óleo De Soja Soya Pet 900ml por R$ 7,79.\n>     *   Bretas Supermercado: Óleo de Soja Liza Pet 900ml.\n> \n> *   **Caixa de leite:**\n>     *   Armazém do Grão: Leite Longa Vida Piracanjuba Integral Tetra Pak (1L) por R$ 6,79. Leite Longa Vida Macuco Integral Tetra Pak (1L) por R$ 5,99.\n> \n> *   **Carne tipo acém:**\n>     *   Armazém do Grão: Acém Bovino Moído (500g) por R$ 17,45.\n>     *   Extra Mercado: Acém em Pedaço Resfriado Bandeja (600g) por R$ 25,74.\n> \n> *   **Filé de peito de frango:**\n>     *   Rio Sul Supermercados: Filé de Peito de Frango Rivelli Bandeija Kg por R$ 19,99 (válido até 19/05).\n>     *   Supermarket: Filé de Peito de Frango Lar Congelado Pacote Kg por R$ 16,97 (exceto sul fluminense).\n>     *   Extra Mercado: Filé de Peito de Frango Congelado sem Pele sem Osso Sadia (1kg) por R$ 25,90.\n>     *   Hortifruti: Filé de peito de frango Sadia (1kg) por R$ 29,99.\n> *   **1 kg de carré suíno congelado:**\n>     *   SuperPrix Supermercado Online: Carré Suíno Congelado (1kg) por R$ 18,99.\n> \n> *   **Batata inglesa:**\n>     *   Super Koch: Batata Lavada Kg por R$ 3,99\n> *   **1 kg de cenoura:**\n>     *   Super Rede: Cenoura Kg por R$ 3,98 (exceto sul fluminense, válido até 14/05/2025).\n>     *   Savegnago: Cenoura 1Kg por R$ 3,99. Cenoura Bandeja 1kg por R$ 5,59\n> \n> *   **Cebola:**\n>     *   Super Rede: Cebola Argentina Kg por R$ 3,88 (válido até 14/05/2025).\n>     *   Primato Supermercado: CEBOLA KG ESPECIAL por R$ 3,79.\n>     *   Super Koch: Cebola Cabeça Kg por R$ 3,99.\n> *   **Alho:**\n> \n>     *   Rede Supermarket: Alho a Granel Kg por R$ 24,95 (exceto sul fluminense).\n>     *   Extra Mercado: Alho Granel 80g (1 Cabeça) por R$ 3,19.\n> *   **Quilo de açúcar:**\n>     *   Supermercado Multimix (Itaipava): Açúcar Refinado Guarani 1kg por R$ 4,79.\n>     *   Rio Sul Supermercados: Açucar Refinado Alto Alegre Kg por R$ 3,99.\n> \n> É importante notar que alguns preços podem estar desatualizados, pois são válidos para datas específicas já passadas. Além disso, a disponibilidade e os preços podem variar entre diferentes lojas e regiões de Petrópolis.\n"
          },
          "metadata": {}
        },
        {
          "output_type": "stream",
          "name": "stdout",
          "text": [
            "--------------------------------------------------------------\n",
            "\n",
            "--- 📝 Resultado do Agente 2 (Planejador) ---\n",
            "\n"
          ]
        },
        {
          "output_type": "display_data",
          "data": {
            "text/plain": [
              "<IPython.core.display.Markdown object>"
            ],
            "text/markdown": "> Ok, com base nas informações fornecidas e considerando a data de hoje, 17 de maio de 2025, montei uma lista com os menores preços encontrados para cada produto em Petrópolis. É importante lembrar que os preços podem variar e alguns podem estar desatualizados, já que algumas ofertas eram válidas até 14/05/2025.\n> \n> **Lista dos Menores Preços em Petrópolis:**\n> \n> *   **Arroz tipo 1 (considerando embalagens de 5kg ou aproximado):**\n>     *   Supermarket: Arroz Branco Tio Bruno (5kg) por R$ 17,95\n> *   **Feijão preto tipo 1:**\n>     *   Supermarket: Feijão Preto Supermarket Tipo 1 (1 kg) por R$ 3,99 (exceto sul fluminense).\n> *   **Café (500g):**\n>     *   Supermarket: Café Melitta (500g) por R$ 34,90.\n> *   **Óleo de soja (900ml):**\n>     *   Supermarket: Óleo de Soja Soya, Primor ou Vitaliv (900ml) por R$ 6,75.\n> *   **Caixa de leite (1L):**\n>     *   Leite Longa Vida Macuco Integral Tetra Pak (1L) por R$ 5,99 (Armazém do Grão)\n> *   **Carne tipo acém (500g):**\n>     *   Armazém do Grão: Acém Bovino Moído (500g) por R$ 17,45.\n> *   **Filé de peito de frango (por kg):**\n>     *   Supermarket: Filé de Peito de Frango Lar Congelado Pacote Kg por R$ 16,97 (exceto sul fluminense).\n> *   **Carré suíno congelado (1kg):**\n>     *    SuperPrix Supermercado Online: Carré Suíno Congelado (1kg) por R$ 18,99.\n> *   **Batata inglesa (por kg):**\n>     *   Super Koch: Batata Lavada Kg por R$ 3,99\n> *   **Cenoura (1 kg):**\n>     *    Super Rede: Cenoura Kg por R$ 3,98 (exceto sul fluminense, válido até 14/05/2025).\n> *   **Cebola (por kg):**\n>     *   Primato Supermercado: CEBOLA KG ESPECIAL por R$ 3,79.\n> *   **Alho (por kg):**\n>     *   Rede Supermarket: Alho a Granel Kg por R$ 24,95 (exceto sul fluminense).\n> *   **Açúcar (1 kg):**\n>     *   Rio Sul Supermercados: Açucar Refinado Alto Alegre Kg por R$ 3,99.\n> \n> **Observações:**\n> \n> *   Verifique a validade das ofertas nos respectivos supermercados, pois algumas podem ter expirado.\n> *   Confirme a disponibilidade dos produtos nas lojas antes de se deslocar.\n> *   Os preços do Supermarket são \"exceto sul fluminense\", então verifique se essa condição se aplica a você.\n> *   Compare os preços em diferentes lojas para garantir o melhor custo-benefício, já que os preços podem variar.\n> \n> Para obter informações mais precisas e atualizadas, recomendo verificar os sites ou aplicativos dos supermercados listados ou entrar em contato diretamente com as lojas em Petrópolis.\n> \n"
          },
          "metadata": {}
        },
        {
          "output_type": "stream",
          "name": "stdout",
          "text": [
            "--------------------------------------------------------------\n",
            "\n",
            "--- 📝 Resultado do Agente 3 (Redator) ---\n",
            "\n"
          ]
        },
        {
          "output_type": "display_data",
          "data": {
            "text/plain": [
              "<IPython.core.display.Markdown object>"
            ],
            "text/markdown": "> **Economize em Petrópolis: Descubra onde encontrar os melhores preços!**\n> \n> Para quem busca otimizar o orçamento sem abrir mão da qualidade, preparamos um levantamento dos menores preços em diversos itens essenciais nos supermercados de Petrópolis.\n> \n> Confira a lista atualizada em 17 de maio de 2025 e planeje suas compras com inteligência:\n> \n> *   **Arroz (5kg):** Supermarket - Arroz Branco Tio Bruno por R$ 17,95\n> *   **Feijão Preto (1kg):** Supermarket - R$ 3,99 (exceto sul fluminense)\n> *   **Café (500g):** Supermarket - Café Melitta por R$ 34,90\n> *   **Óleo de Soja (900ml):** Supermarket - Soya, Primor ou Vitaliv por R$ 6,75\n> *   **Leite (1L):** Armazém do Grão - Leite Longa Vida Macuco por R$ 5,99\n> *   **Acém Moído (500g):** Armazém do Grão - R$ 17,45\n> *   **Filé de Peito de Frango (kg):** Supermarket - Filé de Peito de Frango Lar Congelado por R$ 16,97 (exceto sul fluminense)\n> *   **Carré Suíno Congelado (1kg):** SuperPrix Supermercado Online - R$ 18,99\n> *   **Batata Inglesa (kg):** Super Koch - Batata Lavada por R$ 3,99\n> *   **Cenoura (kg):** Super Rede - R$ 3,98 (exceto sul fluminense, válido até 14/05/2025)\n> *   **Cebola (kg):** Primato Supermercado - CEBOLA ESPECIAL por R$ 3,79\n> *   **Alho (kg):** Rede Supermarket - Alho a Granel por R$ 24,95 (exceto sul fluminense)\n> *   **Açúcar (1 kg):** Rio Sul Supermercados - Açucar Refinado Alto Alegre por R$ 3,99\n> \n> **Atenção:**\n> \n> *   **Validade:** Verifique a validade das ofertas, algumas podem ter expirado em 14/05/2025.\n> *   **Disponibilidade:** Confirme a disponibilidade dos produtos antes de ir às compras.\n> *   **Restrições:** Atente-se às restrições geográficas, como as do Supermarket (\"exceto sul fluminense\").\n> *   **Comparativo:** Compare os preços em diferentes lojas para garantir o melhor custo-benefício.\n> \n> Para informações mais precisas e atualizadas, consulte os sites ou aplicativos dos supermercados listados ou entre em contato diretamente com as lojas em Petrópolis.\n> \n> \\#Economia \\#Petrópolis \\#Supermercado \\#MelhoresPreços \\#DicasDeCompras\n> \n"
          },
          "metadata": {}
        },
        {
          "output_type": "stream",
          "name": "stdout",
          "text": [
            "--------------------------------------------------------------\n",
            "\n",
            "--- 📝 Resultado do Agente 4 (Revisor) ---\n",
            "\n"
          ]
        },
        {
          "output_type": "display_data",
          "data": {
            "text/plain": [
              "<IPython.core.display.Markdown object>"
            ],
            "text/markdown": "> Considerando os preços listados, não há um único supermercado que seja consistentemente o mais barato em todos os itens. A melhor estratégia é visitar diferentes supermercados para aproveitar as melhores ofertas em cada produto. No entanto, o **Supermarket** se destaca por ter o menor preço em vários itens essenciais como arroz, feijão, óleo e frango.\n> \n"
          },
          "metadata": {}
        },
        {
          "output_type": "stream",
          "name": "stdout",
          "text": [
            "--------------------------------------------------------------\n"
          ]
        }
      ]
    }
  ]
}